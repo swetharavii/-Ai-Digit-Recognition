{
 "cells": [
  {
   "cell_type": "markdown",
   "id": "d769bfaa",
   "metadata": {},
   "source": [
    "# 🧠 AI-Based Handwritten Digit Recognition using MNIST"
   ]
  },
  {
   "cell_type": "markdown",
   "id": "47b39c4e",
   "metadata": {},
   "source": [
    "## 📥 Step 1: Import Required Libraries"
   ]
  },
  {
   "cell_type": "code",
   "execution_count": null,
   "id": "4e4b5978",
   "metadata": {},
   "outputs": [],
   "source": [
    "\n",
    "import numpy as np\n",
    "import matplotlib.pyplot as plt\n",
    "import tensorflow as tf\n",
    "from tensorflow.keras.datasets import mnist\n",
    "from tensorflow.keras.models import Sequential\n",
    "from tensorflow.keras.layers import Dense, Flatten, Conv2D, MaxPooling2D\n",
    "from tensorflow.keras.utils import to_categorical\n"
   ]
  },
  {
   "cell_type": "markdown",
   "id": "af92b47c",
   "metadata": {},
   "source": [
    "## 📊 Step 2: Load and Preprocess the Data"
   ]
  },
  {
   "cell_type": "code",
   "execution_count": null,
   "id": "21dfcf85",
   "metadata": {},
   "outputs": [],
   "source": [
    "\n",
    "(x_train, y_train), (x_test, y_test) = mnist.load_data()\n",
    "x_train = x_train.reshape(-1, 28, 28, 1).astype('float32') / 255.0\n",
    "x_test = x_test.reshape(-1, 28, 28, 1).astype('float32') / 255.0\n",
    "y_train = to_categorical(y_train, 10)\n",
    "y_test = to_categorical(y_test, 10)\n"
   ]
  },
  {
   "cell_type": "markdown",
   "id": "5d2bd604",
   "metadata": {},
   "source": [
    "## 🏗️ Step 3: Build the CNN Model"
   ]
  },
  {
   "cell_type": "code",
   "execution_count": null,
   "id": "9919a7fa",
   "metadata": {},
   "outputs": [],
   "source": [
    "\n",
    "model = Sequential([\n",
    "    Conv2D(32, (3,3), activation='relu', input_shape=(28,28,1)),\n",
    "    MaxPooling2D(pool_size=(2,2)),\n",
    "    Flatten(),\n",
    "    Dense(128, activation='relu'),\n",
    "    Dense(10, activation='softmax')\n",
    "])\n",
    "model.compile(optimizer='adam', loss='categorical_crossentropy', metrics=['accuracy'])\n",
    "model.summary()\n"
   ]
  },
  {
   "cell_type": "markdown",
   "id": "d78cfab3",
   "metadata": {},
   "source": [
    "## 🏋️ Step 4: Train the Model"
   ]
  },
  {
   "cell_type": "code",
   "execution_count": null,
   "id": "91e10204",
   "metadata": {},
   "outputs": [],
   "source": [
    "\n",
    "model.fit(x_train, y_train, epochs=5, validation_data=(x_test, y_test))\n"
   ]
  },
  {
   "cell_type": "markdown",
   "id": "09572023",
   "metadata": {},
   "source": [
    "## ✅ Step 5: Evaluate and Predict"
   ]
  },
  {
   "cell_type": "code",
   "execution_count": null,
   "id": "b3d71095",
   "metadata": {},
   "outputs": [],
   "source": [
    "\n",
    "test_loss, test_acc = model.evaluate(x_test, y_test)\n",
    "print(f\"Test Accuracy: {test_acc * 100:.2f}%\")\n"
   ]
  },
  {
   "cell_type": "markdown",
   "id": "9389bc95",
   "metadata": {},
   "source": [
    "## 🔍 Step 6: Predict a Sample Image"
   ]
  },
  {
   "cell_type": "code",
   "execution_count": null,
   "id": "d85b43ba",
   "metadata": {},
   "outputs": [],
   "source": [
    "\n",
    "import random\n",
    "\n",
    "i = random.randint(0, 9999)\n",
    "plt.imshow(x_test[i].reshape(28, 28), cmap='gray')\n",
    "plt.title(\"Actual Label: \" + str(np.argmax(y_test[i])))\n",
    "plt.axis('off')\n",
    "plt.show()\n",
    "\n",
    "prediction = model.predict(x_test[i].reshape(1, 28, 28, 1))\n",
    "print(\"Predicted Label:\", np.argmax(prediction))\n"
   ]
  }
 ],
 "metadata": {},
 "nbformat": 4,
 "nbformat_minor": 5
}
